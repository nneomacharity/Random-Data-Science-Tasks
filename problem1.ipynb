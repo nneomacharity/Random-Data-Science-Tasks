{
  "cells": [
    {
      "cell_type": "markdown",
      "metadata": {
        "id": "view-in-github",
        "colab_type": "text"
      },
      "source": [
        "<a href=\"https://colab.research.google.com/github/nneomacharity1/CE880-Lab-coursework-/blob/main/problem1.ipynb\" target=\"_parent\"><img src=\"https://colab.research.google.com/assets/colab-badge.svg\" alt=\"Open In Colab\"/></a>"
      ]
    },
    {
      "cell_type": "markdown",
      "metadata": {
        "id": "89-a33l4tKHs"
      },
      "source": [
        "---\n",
        "# Welcome to CE880\n",
        "### This is your week-4 : Problem notebook\n",
        "\n",
        "For this problem set, we'll be using the Jupyter notebook and please upload this notebook to [Google Colab](https://colab.research.google.com/). \n",
        "\n",
        "### Task: Complete all the three questions given as follows:"
      ]
    },
    {
      "cell_type": "code",
      "execution_count": 1,
      "metadata": {
        "colab": {
          "base_uri": "https://localhost:8080/"
        },
        "id": "_Ph7TOtWtKIf",
        "outputId": "96cda45a-e8aa-4194-e12f-681dad9df5d4"
      },
      "outputs": [
        {
          "output_type": "stream",
          "name": "stdout",
          "text": [
            "Looking in indexes: https://pypi.org/simple, https://us-python.pkg.dev/colab-wheels/public/simple/\n",
            "Requirement already satisfied: scikit-learn in /usr/local/lib/python3.8/dist-packages (1.0.2)\n",
            "Collecting scikit-learn\n",
            "  Downloading scikit_learn-1.2.0-cp38-cp38-manylinux_2_17_x86_64.manylinux2014_x86_64.whl (9.7 MB)\n",
            "\u001b[2K     \u001b[90m━━━━━━━━━━━━━━━━━━━━━━━━━━━━━━━━━━━━━━━━\u001b[0m \u001b[32m9.7/9.7 MB\u001b[0m \u001b[31m30.8 MB/s\u001b[0m eta \u001b[36m0:00:00\u001b[0m\n",
            "\u001b[?25hRequirement already satisfied: joblib>=1.1.1 in /usr/local/lib/python3.8/dist-packages (from scikit-learn) (1.2.0)\n",
            "Requirement already satisfied: scipy>=1.3.2 in /usr/local/lib/python3.8/dist-packages (from scikit-learn) (1.7.3)\n",
            "Requirement already satisfied: threadpoolctl>=2.0.0 in /usr/local/lib/python3.8/dist-packages (from scikit-learn) (3.1.0)\n",
            "Requirement already satisfied: numpy>=1.17.3 in /usr/local/lib/python3.8/dist-packages (from scikit-learn) (1.21.6)\n",
            "Installing collected packages: scikit-learn\n",
            "  Attempting uninstall: scikit-learn\n",
            "    Found existing installation: scikit-learn 1.0.2\n",
            "    Uninstalling scikit-learn-1.0.2:\n",
            "      Successfully uninstalled scikit-learn-1.0.2\n",
            "Successfully installed scikit-learn-1.2.0\n"
          ]
        }
      ],
      "source": [
        "# install sklearn package if you are using local computer and if you are using Google Coalb then skip this step\n",
        "!pip install -U scikit-learn"
      ]
    },
    {
      "cell_type": "code",
      "execution_count": 2,
      "metadata": {
        "id": "HFWjGr9etKIt"
      },
      "outputs": [],
      "source": [
        "import pandas as pd\n",
        "import numpy as np\n",
        "from sklearn.cluster import DBSCAN\n",
        "from sklearn.cluster import KMeans\n",
        "from sklearn.datasets import make_circles, make_moons\n",
        "from sklearn.metrics import adjusted_rand_score\n",
        "from sklearn.preprocessing import StandardScaler\n",
        "from sklearn.metrics import silhouette_score, adjusted_rand_score\n",
        "from sklearn.decomposition import PCA\n",
        "scaler = StandardScaler()"
      ]
    },
    {
      "cell_type": "markdown",
      "metadata": {
        "id": "W62fKTQXtKIx"
      },
      "source": [
        "---\n",
        "## Question 1: \n",
        "We have already loaded `moon` data for you using `make_moons` function. \n",
        "\n",
        "Write a code to perform `k-means` clustering on `scaled_features` variable and return `silhouette_score` as an output"
      ]
    },
    {
      "cell_type": "code",
      "execution_count": 3,
      "metadata": {
        "deletable": false,
        "nbgrader": {
          "cell_type": "code",
          "checksum": "bf58f0a2e32fa1a6922107b99db36c0f",
          "grade": false,
          "grade_id": "myScore_kmean_ans",
          "locked": false,
          "schema_version": 3,
          "solution": true,
          "task": false
        },
        "id": "D1STPpDqtKI1"
      },
      "outputs": [],
      "source": [
        "# Let's make two moons, where n is the number of samples\n",
        "features, true_labels = make_moons(n_samples=250, noise=0.05, random_state=42)\n",
        "# fit_transform() method is basically the combination of fit method and transform method, \n",
        "# it is equivalent to fit().transform(). This method performs fit and transform on the \n",
        "# input data at a single time and converts the data points. \n",
        "# If we use fit and transform separate when we need both then it \n",
        "# will decrease the efficiency of the model so we use fit_transform() \n",
        "# which will do both the work.\n",
        "scaled_features = scaler.fit_transform(features)\n",
        "myscore = []\n",
        "\n",
        "def myScore_kmean(scaled_features):\n",
        "    \"\"\"Write code to perform k-means clustering and print silhouette_score\"\"\"\n",
        "    # YOUR CODE HERE\n",
        "    # Define the number of clusters\n",
        "    n_clusters = 3\n",
        "    # Initialize the k-means model\n",
        "    kmeans = KMeans(n_clusters=n_clusters)\n",
        "    # Fit the model to the data\n",
        "    kmeans.fit(scaled_features)\n",
        "    # Predict the cluster labels\n",
        "    labels = kmeans.predict(scaled_features)\n",
        "    # Calculate the silhouette score\n",
        "    myScore_Kmean = silhouette_score(scaled_features, labels)\n",
        "    return myScore_Kmean\n",
        "    raise NotImplementedError()"
      ]
    },
    {
      "cell_type": "code",
      "execution_count": 4,
      "metadata": {
        "deletable": false,
        "editable": false,
        "nbgrader": {
          "cell_type": "code",
          "checksum": "ff384726af44a533c03f314abed22cf8",
          "grade": true,
          "grade_id": "myScore_kmean_test",
          "locked": true,
          "points": 2,
          "schema_version": 3,
          "solution": false,
          "task": false
        },
        "colab": {
          "base_uri": "https://localhost:8080/"
        },
        "id": "myejkhgxtKI8",
        "outputId": "fd785304-bfcc-475c-de5e-544955069983"
      },
      "outputs": [
        {
          "output_type": "stream",
          "name": "stderr",
          "text": [
            "/usr/local/lib/python3.8/dist-packages/sklearn/cluster/_kmeans.py:870: FutureWarning: The default value of `n_init` will change from 10 to 'auto' in 1.4. Set the value of `n_init` explicitly to suppress the warning\n",
            "  warnings.warn(\n"
          ]
        }
      ],
      "source": [
        "# Check you solution by running this cell\n",
        "import math\n",
        "assert math.isclose(myScore_kmean(scaled_features), 0.5, rel_tol=0.10)"
      ]
    },
    {
      "cell_type": "markdown",
      "metadata": {
        "id": "1z-DeBh3tKJD"
      },
      "source": [
        "---\n",
        "## Question 2: \n",
        "\n",
        "Write a code to perform `DBSCAN` clustering algorithm on `scaled_features` and return `silhouette_score` as an output. Please set the `eps` = 0.2 and `min_samples` = 5"
      ]
    },
    {
      "cell_type": "code",
      "source": [
        "# Let's make two moons, where n is the number of samples\n",
        "from sklearn.datasets import make_moons\n",
        "from sklearn.cluster import DBSCAN\n",
        "from sklearn.preprocessing import StandardScaler\n",
        "from sklearn.metrics import silhouette_score\n",
        "import math\n",
        "features, true_labels =  make_moons(n_samples=250, noise=.1)\n",
        "\n",
        "def myScore_DBSCAN(scaled_features):\n",
        "    \"\"\"Write code to perform DBSCAN algorithm and print silhouette_score\"\"\"\n",
        "    # YOUR CODE HERE\n",
        "    \n",
        "    #converting all to float\n",
        "    scaled_feat = [[float(x) for x in row] for row in scaled_features]\n",
        "    # Scaling the data\n",
        "    scaler = StandardScaler()\n",
        "    scaled_feat = scaler.fit_transform(features)\n",
        "\n",
        "    # Performing the DBSCAN clustering\n",
        "    clusterer = DBSCAN(eps=0.2, min_samples=5)\n",
        "    clusters = clusterer.fit_predict(scaled_features)\n",
        "\n",
        "    # Remove samples that are not assigned to a cluster\n",
        "    scaled_features = [scaled_features[i] for i in range(len(scaled_features)) if clusters[i] != -1]\n",
        "    clusters = [clusters[i] for i in range(len(clusters)) if clusters[i] != -1]\n",
        "    \n",
        "    # Compute the silhouette score\n",
        "    silhouette = silhouette_score(scaled_features, clusters)\n",
        "    print(silhouette)\n",
        "    return silhouette\n",
        "    raise NotImplementedError()"
      ],
      "metadata": {
        "id": "u-bOh4dUDWES"
      },
      "execution_count": 5,
      "outputs": []
    },
    {
      "cell_type": "code",
      "execution_count": 6,
      "metadata": {
        "deletable": false,
        "editable": false,
        "nbgrader": {
          "cell_type": "code",
          "checksum": "0535b08a016135b8ef1071ba22d9bbae",
          "grade": true,
          "grade_id": "myScore_DBSCAN_test",
          "locked": true,
          "points": 2,
          "schema_version": 3,
          "solution": false,
          "task": false
        },
        "colab": {
          "base_uri": "https://localhost:8080/"
        },
        "id": "35_AUn8btKJO",
        "outputId": "d6d02faf-aff8-4578-d652-9378183845b3"
      },
      "outputs": [
        {
          "output_type": "stream",
          "name": "stdout",
          "text": [
            "0.19335289153528398\n"
          ]
        }
      ],
      "source": [
        "# Check you solution by running this cell\n",
        "assert math.isclose(myScore_DBSCAN(scaled_features), 0.2, rel_tol=0.10)"
      ]
    },
    {
      "cell_type": "markdown",
      "metadata": {
        "id": "ArUepjNjtKJT"
      },
      "source": [
        "## Question 3: \n",
        "\n",
        "Complete this code perform `PCA`  on `iris data` and return `explained_variance_ratio_` as an output for the first two principal components (PCs)"
      ]
    },
    {
      "cell_type": "code",
      "execution_count": 7,
      "metadata": {
        "deletable": false,
        "nbgrader": {
          "cell_type": "code",
          "checksum": "dd82ba18e8d651946a4d57e7ad4c6ab6",
          "grade": false,
          "grade_id": "myPCA_ans",
          "locked": false,
          "schema_version": 3,
          "solution": true,
          "task": false
        },
        "id": "8oKa9afOtKJW"
      },
      "outputs": [],
      "source": [
        "import pandas as pd\n",
        "from sklearn.decomposition import PCA\n",
        "\n",
        "\n",
        "url = \"https://archive.ics.uci.edu/ml/machine-learning-databases/iris/iris.data\"\n",
        "# load dataset into Pandas DataFrame\n",
        "df = pd.read_csv(url, names=['sepal length','sepal width','petal length','petal width','target'])\n",
        "\n",
        "features = ['sepal length', 'sepal width', 'petal length', 'petal width']\n",
        "# Separating out the features\n",
        "x = df.loc[:, features].values\n",
        "# Separating out the target\n",
        "y = df.loc[:,['target']].values\n",
        "# Standardizing the features\n",
        "x = StandardScaler().fit_transform(x)\n",
        "    \n",
        "def myPCA(x):\n",
        "    \"\"\"Complete this code return the explained variance ratio for the first two prinical \n",
        "    components after doing PCA on x \"\"\"\n",
        "    # YOUR CODE HERE\n",
        "    pca = PCA(n_components=2)\n",
        "    pcs = pca.fit_transform(x)\n",
        "    explained_variance_ratio = pca.explained_variance_ratio_\n",
        "    return explained_variance_ratio\n",
        "    raise NotImplementedError()"
      ]
    },
    {
      "cell_type": "code",
      "execution_count": 8,
      "metadata": {
        "deletable": false,
        "editable": false,
        "nbgrader": {
          "cell_type": "code",
          "checksum": "2e809b5a12f6124c9a5dd16363dce006",
          "grade": true,
          "grade_id": "myPCA_test",
          "locked": true,
          "points": 2,
          "schema_version": 3,
          "solution": false,
          "task": false
        },
        "id": "25KLWXSZtKJZ"
      },
      "outputs": [],
      "source": [
        "# Check you solution by running this cell\n",
        "x= myPCA(x)\n",
        "y = [0.7277045209380135, 0.23030523267680633]\n",
        "np.testing.assert_allclose(x, y, rtol=1e-5, atol=0)\n"
      ]
    }
  ],
  "metadata": {
    "kernelspec": {
      "display_name": "Python 3",
      "language": "python",
      "name": "python3"
    },
    "language_info": {
      "codemirror_mode": {
        "name": "ipython",
        "version": 3
      },
      "file_extension": ".py",
      "mimetype": "text/x-python",
      "name": "python",
      "nbconvert_exporter": "python",
      "pygments_lexer": "ipython3",
      "version": "3.7.11"
    },
    "colab": {
      "provenance": [],
      "include_colab_link": true
    }
  },
  "nbformat": 4,
  "nbformat_minor": 0
}